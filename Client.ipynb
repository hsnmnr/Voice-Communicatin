{
 "cells": [
  {
   "cell_type": "markdown",
   "metadata": {},
   "source": [
    "# Importing Libraries"
   ]
  },
  {
   "cell_type": "code",
   "execution_count": 1,
   "metadata": {},
   "outputs": [
    {
     "ename": "ModuleNotFoundError",
     "evalue": "No module named 'sounddevice'",
     "output_type": "error",
     "traceback": [
      "\u001b[1;31m---------------------------------------------------------------------------\u001b[0m",
      "\u001b[1;31mModuleNotFoundError\u001b[0m                       Traceback (most recent call last)",
      "\u001b[1;32m<ipython-input-1-617c3ef40a4a>\u001b[0m in \u001b[0;36m<module>\u001b[1;34m\u001b[0m\n\u001b[0;32m      2\u001b[0m \u001b[1;32mimport\u001b[0m \u001b[0mthreading\u001b[0m\u001b[1;33m\u001b[0m\u001b[1;33m\u001b[0m\u001b[0m\n\u001b[0;32m      3\u001b[0m \u001b[1;33m\u001b[0m\u001b[0m\n\u001b[1;32m----> 4\u001b[1;33m \u001b[1;32mimport\u001b[0m \u001b[0msounddevice\u001b[0m \u001b[1;32mas\u001b[0m \u001b[0msd\u001b[0m\u001b[1;33m\u001b[0m\u001b[1;33m\u001b[0m\u001b[0m\n\u001b[0m\u001b[0;32m      5\u001b[0m \u001b[1;32mimport\u001b[0m \u001b[0mnumpy\u001b[0m \u001b[1;32mas\u001b[0m \u001b[0mnp\u001b[0m\u001b[1;33m\u001b[0m\u001b[1;33m\u001b[0m\u001b[0m\n",
      "\u001b[1;31mModuleNotFoundError\u001b[0m: No module named 'sounddevice'"
     ]
    }
   ],
   "source": [
    "import socket\n",
    "import threading\n",
    "\n",
    "import sounddevice as sd\n",
    "import numpy as np"
   ]
  },
  {
   "cell_type": "markdown",
   "metadata": {},
   "source": [
    "# Utility Functions"
   ]
  },
  {
   "cell_type": "code",
   "execution_count": 2,
   "metadata": {},
   "outputs": [],
   "source": [
    "def recordVoice(fs ,duration): # fs : frequency Sampling\n",
    "    print(\"<-- Recording Voice -->\")\n",
    "    myrecording = sd.rec(int(duration * fs), channels=1)\n",
    "    sd.wait()\n",
    "    \n",
    "    toString = myrecording.tostring() # converting recording to string\n",
    "    \n",
    "    return toString\n",
    "\n",
    "def sendVoice(socket, stringVoice):\n",
    "    print(\"<-- Sent Voice -->\")\n",
    "    socket.send(stringVoice)\n",
    "    \n",
    "def receiveVoice(socket, fs ,duration):\n",
    "    print(\"<-- Received Voice -->\")\n",
    "    msg = s.recv(int(fs) * int(duration) * 4)\n",
    "    \n",
    "    return msg\n",
    "\n",
    "def playVoice(stringVoice):\n",
    "    voice = np.frombuffer(stringVoice,dtype=np.float32)\n",
    "    print(\"<-- Playing Voice -->\")\n",
    "    sd.play(voice)"
   ]
  },
  {
   "cell_type": "code",
   "execution_count": null,
   "metadata": {},
   "outputs": [],
   "source": []
  },
  {
   "cell_type": "markdown",
   "metadata": {},
   "source": [
    "# Multi threaded Classes"
   ]
  },
  {
   "cell_type": "code",
   "execution_count": 3,
   "metadata": {},
   "outputs": [],
   "source": [
    "class send(threading.Thread): \n",
    "    def __init__(self, socket, fs, duration): # fs : frequency of sampling\n",
    "        threading.Thread.__init__(self) \n",
    "        self.socket = socket\n",
    "        self.fs = fs\n",
    "        self.duration = duration\n",
    "        \n",
    "        self._running = True\n",
    "        \n",
    "    def terminate(self):\n",
    "        self._running = False\n",
    "\n",
    "    def run(self): \n",
    "        while self._running:\n",
    "            name = input(\"> Enter Any Key To Record And Send Voice <\")\n",
    "            \n",
    "            voice = recordVoice(self.fs , self.duration)\n",
    "            sendVoice(self.socket, voice)\n",
    "\n",
    "\n",
    "class receive(threading.Thread): \n",
    "    def __init__(self, socket, fs, duration): \n",
    "        threading.Thread.__init__(self) \n",
    "        self.socket = socket\n",
    "        self.fs = fs\n",
    "        self.duration = duration\n",
    "        \n",
    "        self._running = True\n",
    "        \n",
    "    def terminate(self):\n",
    "        self._running = False\n",
    "\n",
    "    def run(self): \n",
    "        while self._running:\n",
    "            recievedVoice = self.socket.recv(int(fs) * int(duration) * 4)\n",
    "            print(\"<-- Received Voice -->\")\n",
    "            playVoice(recievedVoice)\n"
   ]
  },
  {
   "cell_type": "markdown",
   "metadata": {},
   "source": [
    "# Defining Some Values"
   ]
  },
  {
   "cell_type": "code",
   "execution_count": 4,
   "metadata": {},
   "outputs": [],
   "source": [
    "fs = 44200 # Sampling rate (Sampling Rate Must be same across Client And Server)\n",
    "sd.default.samplerate = fs # Setting Default Sampling Rate\n",
    "\n",
    "duration = 5 # sec"
   ]
  },
  {
   "cell_type": "markdown",
   "metadata": {},
   "source": [
    "# Socket Code"
   ]
  },
  {
   "cell_type": "code",
   "execution_count": null,
   "metadata": {},
   "outputs": [
    {
     "name": "stdout",
     "output_type": "stream",
     "text": [
      "<-- Received Voice -->\n",
      "<-- Playing Voice -->\n"
     ]
    }
   ],
   "source": [
    "s = socket.socket(socket.AF_INET, socket.SOCK_STREAM)\n",
    "s.connect((socket.gethostname(), 20001))\n",
    "\n",
    "\n",
    "threads1 = []\n",
    "threads2 = []\n",
    "\n",
    "\n",
    "thread1 = send(s, fs, duration)\n",
    "thread1.start() \n",
    "threads1.append(thread1)\n",
    "\n",
    "thread2 = receive(s, fs, duration)\n",
    "thread2.start() \n",
    "threads2.append(thread2)\n",
    "    \n",
    "\n",
    "for thread in threads1:\n",
    "    thread.join()\n",
    "\n",
    "for thread in threads2:\n",
    "    thread.join()\n",
    "# s.close()\n"
   ]
  },
  {
   "cell_type": "code",
   "execution_count": null,
   "metadata": {},
   "outputs": [],
   "source": []
  },
  {
   "cell_type": "code",
   "execution_count": null,
   "metadata": {},
   "outputs": [],
   "source": []
  },
  {
   "cell_type": "code",
   "execution_count": null,
   "metadata": {},
   "outputs": [],
   "source": []
  }
 ],
 "metadata": {
  "kernelspec": {
   "display_name": "Python 3",
   "language": "python",
   "name": "python3"
  },
  "language_info": {
   "codemirror_mode": {
    "name": "ipython",
    "version": 3
   },
   "file_extension": ".py",
   "mimetype": "text/x-python",
   "name": "python",
   "nbconvert_exporter": "python",
   "pygments_lexer": "ipython3",
   "version": "3.8.5"
  }
 },
 "nbformat": 4,
 "nbformat_minor": 4
}
