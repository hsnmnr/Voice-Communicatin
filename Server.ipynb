{
 "cells": [
  {
   "cell_type": "markdown",
   "metadata": {},
   "source": [
    "# Importing Libraries"
   ]
  },
  {
   "cell_type": "code",
   "execution_count": 1,
   "metadata": {},
   "outputs": [],
   "source": [
    "import socket\n",
    "import threading\n",
    "\n",
    "import sounddevice as sd\n",
    "import numpy as np"
   ]
  },
  {
   "cell_type": "markdown",
   "metadata": {},
   "source": [
    "# Utility Functions"
   ]
  },
  {
   "cell_type": "code",
   "execution_count": 2,
   "metadata": {},
   "outputs": [],
   "source": [
    "def recordVoice(fs ,duration): # fs : frequency Sampling\n",
    "    print(\"<-- Recording Voice -->\")\n",
    "    myrecording = sd.rec(int(duration * fs), channels=1)\n",
    "    sd.wait()\n",
    "    \n",
    "    toString = myrecording.tostring() # converting recording to string\n",
    "    \n",
    "    return toString\n",
    "\n",
    "def sendVoice(socket, stringVoice):\n",
    "    print(\"<-- Sent Voice -->\")\n",
    "    socket.send(stringVoice)\n",
    "    \n",
    "def receiveVoice(socket, fs ,duration):\n",
    "    print(\"<-- Received Voice -->\")\n",
    "    msg = s.recv(int(fs) * int(duration) * 4)\n",
    "    \n",
    "    return msg\n",
    "\n",
    "def playVoice(stringVoice):\n",
    "    voice = np.frombuffer(stringVoice,dtype=np.float32)\n",
    "    print(\"<-- Playing Voice -->\")\n",
    "    sd.play(voice)"
   ]
  },
  {
   "cell_type": "code",
   "execution_count": null,
   "metadata": {},
   "outputs": [],
   "source": []
  },
  {
   "cell_type": "markdown",
   "metadata": {},
   "source": [
    "# Multi threaded Classes"
   ]
  },
  {
   "cell_type": "code",
   "execution_count": 3,
   "metadata": {},
   "outputs": [],
   "source": [
    "class send(threading.Thread): \n",
    "    def __init__(self, socket, fs, duration): # fs : frequency of sampling\n",
    "        threading.Thread.__init__(self) \n",
    "        self.socket = socket\n",
    "        self.fs = fs\n",
    "        self.duration = duration\n",
    "        \n",
    "        self._running = True\n",
    "        \n",
    "    def terminate(self):\n",
    "        self._running = False\n",
    "\n",
    "    def run(self): \n",
    "        while self._running:\n",
    "            name = input(\"> Enter Any Key To Record And Send Voice <\")\n",
    "            \n",
    "            voice = recordVoice(self.fs , self.duration)\n",
    "            sendVoice(self.socket, voice)\n",
    "\n",
    "\n",
    "class receive(threading.Thread): \n",
    "    def __init__(self, socket, fs, duration): \n",
    "        threading.Thread.__init__(self) \n",
    "        self.socket = socket\n",
    "        self.fs = fs\n",
    "        self.duration = duration\n",
    "        \n",
    "        self._running = True\n",
    "        \n",
    "    def terminate(self):\n",
    "        self._running = False\n",
    "\n",
    "    def run(self): \n",
    "        while self._running:\n",
    "            recievedVoice = self.socket.recv(int(fs) * int(duration) * 4)\n",
    "            print(\"<-- Received Voice -->\")\n",
    "            playVoice(recievedVoice)\n"
   ]
  },
  {
   "cell_type": "markdown",
   "metadata": {},
   "source": [
    "# Defining Some Value"
   ]
  },
  {
   "cell_type": "code",
   "execution_count": 4,
   "metadata": {},
   "outputs": [],
   "source": [
    "fs = 44200 # Sampling rate (Sampling Rate Must be same across Client And Server)\n",
    "sd.default.samplerate = fs # Setting Default Sampling Rate\n",
    "\n",
    "duration = 5 # sec"
   ]
  },
  {
   "cell_type": "markdown",
   "metadata": {},
   "source": [
    "# Socket Code"
   ]
  },
  {
   "cell_type": "code",
   "execution_count": null,
   "metadata": {},
   "outputs": [
    {
     "name": "stdout",
     "output_type": "stream",
     "text": [
      "...Waiting for clients...\n",
      "New connection : <socket.socket fd=1524, family=AddressFamily.AF_INET, type=SocketKind.SOCK_STREAM, proto=0, laddr=('192.168.0.65', 20001), raddr=('192.168.0.65', 61567)>\n",
      "> Enter Any Key To Record And Send Voice <ha\n",
      "<-- Recording Voice -->\n",
      "<-- Sent Voice -->\n"
     ]
    }
   ],
   "source": [
    "#Listening for socket\n",
    "s = socket.socket(socket.AF_INET, socket.SOCK_STREAM)\n",
    "s.setsockopt(socket.SOL_SOCKET, socket.SO_REUSEADDR, 1)\n",
    "s.bind((socket.gethostname(), 20001))\n",
    "\n",
    "threads1 = []\n",
    "threads2 = []\n",
    "\n",
    "\n",
    "print(\"...Waiting for clients...\")\n",
    "\n",
    "while True:\n",
    "    s.listen(5)\n",
    "    clientsocket, address = s.accept()\n",
    "    print(\"New connection : \" + str(clientsocket))\n",
    "    \n",
    "    thread1 = send(clientsocket, fs, duration)\n",
    "    thread1.start() \n",
    "    threads1.append(thread1)\n",
    "    \n",
    "    thread2 = receive(clientsocket, fs, duration)\n",
    "    thread2.start() \n",
    "    threads2.append(thread2)\n",
    "    \n",
    "\n",
    "for thread in threads1:\n",
    "    thread.join()\n",
    "\n",
    "for thread in threads2:\n",
    "    thread.join()\n"
   ]
  },
  {
   "cell_type": "code",
   "execution_count": null,
   "metadata": {},
   "outputs": [],
   "source": []
  },
  {
   "cell_type": "code",
   "execution_count": null,
   "metadata": {},
   "outputs": [],
   "source": []
  }
 ],
 "metadata": {
  "kernelspec": {
   "display_name": "Python 3",
   "language": "python",
   "name": "python3"
  },
  "language_info": {
   "codemirror_mode": {
    "name": "ipython",
    "version": 3
   },
   "file_extension": ".py",
   "mimetype": "text/x-python",
   "name": "python",
   "nbconvert_exporter": "python",
   "pygments_lexer": "ipython3",
   "version": "3.8.5"
  }
 },
 "nbformat": 4,
 "nbformat_minor": 4
}
